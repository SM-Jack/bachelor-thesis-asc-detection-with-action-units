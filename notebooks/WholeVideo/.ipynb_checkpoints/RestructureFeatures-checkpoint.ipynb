{
 "cells": [
  {
   "cell_type": "code",
   "execution_count": 2,
   "id": "b01f66bc",
   "metadata": {},
   "outputs": [],
   "source": [
    "import csv\n",
    "import os\n",
    "\n",
    "import math\n",
    "import numpy as np\n",
    "\n",
    "import pandas as pd\n",
    "import matplotlib.pyplot as plt\n",
    "import seaborn as sns"
   ]
  },
  {
   "cell_type": "markdown",
   "id": "2caedf43",
   "metadata": {},
   "source": [
    "## Load Data"
   ]
  },
  {
   "cell_type": "markdown",
   "id": "97d46701",
   "metadata": {},
   "source": [
    "### ME-GraphAU"
   ]
  },
  {
   "cell_type": "code",
   "execution_count": 8,
   "id": "dfdb9ac0",
   "metadata": {},
   "outputs": [],
   "source": [
    "# Load Data\n",
    "me_data_frames = {}\n",
    "for (root, dirs, file) in os.walk(\"megraph_results\"):\n",
    "    for f in file:\n",
    "        if \".csv\" in f:\n",
    "            path = root + \"/\" + f\n",
    "            df = pd.read_csv(path)\n",
    "            me_data_frames[f] = df"
   ]
  },
  {
   "cell_type": "code",
   "execution_count": 9,
   "id": "9d9c9f1a",
   "metadata": {
    "scrolled": true
   },
   "outputs": [
    {
     "data": {
      "text/plain": [
       "165"
      ]
     },
     "execution_count": 9,
     "metadata": {},
     "output_type": "execute_result"
    }
   ],
   "source": [
    "len(me_data_frames)"
   ]
  },
  {
   "cell_type": "code",
   "execution_count": null,
   "id": "d63a19f5",
   "metadata": {
    "scrolled": true
   },
   "outputs": [],
   "source": [
    "# Drop Columns\n",
    "for k in me_data_frames.keys():\n",
    "    df = me_data_frames[k]\n",
    "    column_labels_list = df.columns.tolist()\n",
    "    # print(\"Dropping column for: \", k)\n",
    "    for label in column_labels_list:\n",
    "        if 'Unnamed: 0' in label:\n",
    "            df = df.drop(columns='Unnamed: 0')\n",
    "        if 'L' in label:\n",
    "            df = df.drop(columns=label)\n",
    "        if 'R' in label:\n",
    "            df = df.drop(columns=label)\n",
    "    me_data_frames[k] = df"
   ]
  },
  {
   "cell_type": "code",
   "execution_count": 11,
   "id": "42db876c",
   "metadata": {
    "scrolled": true
   },
   "outputs": [
    {
     "name": "stdout",
     "output_type": "stream",
     "text": [
      "     AU1    AU2    AU4   AU5    AU6    AU7    AU9   AU10   AU11   AU12  ...  \\\n",
      "0  29.58  13.47  82.80  8.00  62.82  30.46  12.39  17.88  37.94  12.89  ...   \n",
      "1  30.09  13.56  83.76  7.64  61.92  30.86  12.10  18.63  39.46  13.23  ...   \n",
      "\n",
      "    AU20  AU22   AU23   AU24   AU25   AU26  AU27  AU32   AU38   AU39  \n",
      "0  16.19  7.91  15.17  20.51  22.27  10.48  8.48  5.68  13.28  12.77  \n",
      "1  16.30  7.68  16.62  21.75  22.83  10.97  8.41  5.30  12.36  12.21  \n",
      "\n",
      "[2 rows x 27 columns]\n"
     ]
    }
   ],
   "source": [
    "print(me_data_frames[\"pre-04-014_part_2_MEGraph_res.csv\"][0:2])"
   ]
  },
  {
   "cell_type": "code",
   "execution_count": 12,
   "id": "de976a0f",
   "metadata": {},
   "outputs": [],
   "source": [
    "# Rename Features\n",
    "for k in me_data_frames.keys():\n",
    "    df = me_data_frames[k]\n",
    "    df.columns = df.columns.str.replace('AU', 'me_graph_AU')\n",
    "    #me_data_frames[k] = df"
   ]
  },
  {
   "cell_type": "code",
   "execution_count": 13,
   "id": "9ed400ec",
   "metadata": {},
   "outputs": [
    {
     "name": "stdout",
     "output_type": "stream",
     "text": [
      "   me_graph_AU1  me_graph_AU2  me_graph_AU4  me_graph_AU5  me_graph_AU6  \\\n",
      "0         29.58         13.47         82.80          8.00         62.82   \n",
      "1         30.09         13.56         83.76          7.64         61.92   \n",
      "\n",
      "   me_graph_AU7  me_graph_AU9  me_graph_AU10  me_graph_AU11  me_graph_AU12  \\\n",
      "0         30.46         12.39          17.88          37.94          12.89   \n",
      "1         30.86         12.10          18.63          39.46          13.23   \n",
      "\n",
      "   ...  me_graph_AU20  me_graph_AU22  me_graph_AU23  me_graph_AU24  \\\n",
      "0  ...          16.19           7.91          15.17          20.51   \n",
      "1  ...          16.30           7.68          16.62          21.75   \n",
      "\n",
      "   me_graph_AU25  me_graph_AU26  me_graph_AU27  me_graph_AU32  me_graph_AU38  \\\n",
      "0          22.27          10.48           8.48           5.68          13.28   \n",
      "1          22.83          10.97           8.41           5.30          12.36   \n",
      "\n",
      "   me_graph_AU39  \n",
      "0          12.77  \n",
      "1          12.21  \n",
      "\n",
      "[2 rows x 27 columns]\n"
     ]
    }
   ],
   "source": [
    "print(me_data_frames[\"pre-04-014_part_2_MEGraph_res.csv\"][0:2])"
   ]
  },
  {
   "cell_type": "code",
   "execution_count": null,
   "id": "ccbf1a4b",
   "metadata": {},
   "outputs": [],
   "source": []
  },
  {
   "cell_type": "markdown",
   "id": "21768e93",
   "metadata": {},
   "source": []
  },
  {
   "cell_type": "markdown",
   "id": "23c7fe25",
   "metadata": {},
   "source": [
    "### LibreFace"
   ]
  },
  {
   "cell_type": "code",
   "execution_count": 14,
   "id": "9535877b",
   "metadata": {},
   "outputs": [],
   "source": [
    "# Load Data\n",
    "libre_data_frames = {}\n",
    "for (root, dirs, file) in os.walk(\"libreface_features_csv\"):\n",
    "    for f in file:\n",
    "        if \".csv\" in f:\n",
    "            path = root + \"/\" + f\n",
    "            df = pd.read_csv(path)\n",
    "            libre_data_frames[f] = df"
   ]
  },
  {
   "cell_type": "code",
   "execution_count": 15,
   "id": "5d0060db",
   "metadata": {
    "scrolled": true
   },
   "outputs": [
    {
     "name": "stdout",
     "output_type": "stream",
     "text": [
      "      au1_d     au2_d     au4_d     au6_d     au7_d    au10_d    au12_d  \\\n",
      "0  0.244537  0.588385  0.506791  0.480943  0.625119  0.821558  0.479954   \n",
      "1  0.287383  0.656716  0.528421  0.503903  0.617207  0.829716  0.487434   \n",
      "\n",
      "     au14_d    au15_d    au17_d  ...     au5_i     au6_i     au9_i    au12_i  \\\n",
      "0  0.014369  0.000917  0.026635  ...  0.049410  0.041506  0.055842  0.253342   \n",
      "1  0.015756  0.000905  0.027747  ...  0.051378  0.044465  0.059174  0.256453   \n",
      "\n",
      "     au15_i    au17_i    au20_i    au25_i    au26_i  frame  \n",
      "0  0.033510  0.040307  0.049689  0.391612  0.040814      1  \n",
      "1  0.034027  0.041201  0.051156  0.408797  0.039705      2  \n",
      "\n",
      "[2 rows x 25 columns]\n"
     ]
    },
    {
     "data": {
      "text/plain": [
       "165"
      ]
     },
     "execution_count": 15,
     "metadata": {},
     "output_type": "execute_result"
    }
   ],
   "source": [
    "print(libre_data_frames[\"91-001_part_2_results.csv\"][0:2])\n",
    "len(libre_data_frames)"
   ]
  },
  {
   "cell_type": "code",
   "execution_count": 16,
   "id": "5c79a3ab",
   "metadata": {},
   "outputs": [
    {
     "name": "stdout",
     "output_type": "stream",
     "text": [
      "Dropping 'frame' column\n"
     ]
    }
   ],
   "source": [
    "# Drop Columns\n",
    "print(\"Dropping 'frame' column\")\n",
    "for k in libre_data_frames.keys():\n",
    "    df = libre_data_frames[k]    \n",
    "    if 'frame' in df.columns.tolist():\n",
    "            df = df.drop(columns='frame')\n",
    "    libre_data_frames[k] = df"
   ]
  },
  {
   "cell_type": "code",
   "execution_count": 17,
   "id": "f7e0080c",
   "metadata": {
    "scrolled": true
   },
   "outputs": [
    {
     "name": "stdout",
     "output_type": "stream",
     "text": [
      "      au1_d     au2_d     au4_d     au6_d     au7_d    au10_d    au12_d  \\\n",
      "0  0.244537  0.588385  0.506791  0.480943  0.625119  0.821558  0.479954   \n",
      "1  0.287383  0.656716  0.528421  0.503903  0.617207  0.829716  0.487434   \n",
      "\n",
      "     au14_d    au15_d    au17_d  ...     au4_i     au5_i     au6_i     au9_i  \\\n",
      "0  0.014369  0.000917  0.026635  ...  0.114357  0.049410  0.041506  0.055842   \n",
      "1  0.015756  0.000905  0.027747  ...  0.115769  0.051378  0.044465  0.059174   \n",
      "\n",
      "     au12_i    au15_i    au17_i    au20_i    au25_i    au26_i  \n",
      "0  0.253342  0.033510  0.040307  0.049689  0.391612  0.040814  \n",
      "1  0.256453  0.034027  0.041201  0.051156  0.408797  0.039705  \n",
      "\n",
      "[2 rows x 24 columns]\n"
     ]
    }
   ],
   "source": [
    "print(libre_data_frames[\"91-001_part_2_results.csv\"][0:2])"
   ]
  },
  {
   "cell_type": "code",
   "execution_count": 35,
   "id": "3ef771fa",
   "metadata": {},
   "outputs": [],
   "source": [
    "# Rename Features\n",
    "for k in libre_data_frames.keys():\n",
    "    df = libre_data_frames[k]\n",
    "    df.columns = df.columns.str.replace('au', 'libreface_AU0')\n",
    "    #me_data_frames[k] = df"
   ]
  },
  {
   "cell_type": "code",
   "execution_count": 36,
   "id": "f06801dd",
   "metadata": {},
   "outputs": [
    {
     "name": "stdout",
     "output_type": "stream",
     "text": [
      "   libreface_AU01_d  libreface_AU02_d  libreface_AU04_d  libreface_AU06_d  \\\n",
      "0          0.244537          0.588385          0.506791          0.480943   \n",
      "1          0.287383          0.656716          0.528421          0.503903   \n",
      "\n",
      "   libreface_AU07_d  libreface_AU010_d  libreface_AU012_d  libreface_AU014_d  \\\n",
      "0          0.625119           0.821558           0.479954           0.014369   \n",
      "1          0.617207           0.829716           0.487434           0.015756   \n",
      "\n",
      "   libreface_AU015_d  libreface_AU017_d  ...  libreface_AU04_i  \\\n",
      "0           0.000917           0.026635  ...          0.114357   \n",
      "1           0.000905           0.027747  ...          0.115769   \n",
      "\n",
      "   libreface_AU05_i  libreface_AU06_i  libreface_AU09_i  libreface_AU012_i  \\\n",
      "0          0.049410          0.041506          0.055842           0.253342   \n",
      "1          0.051378          0.044465          0.059174           0.256453   \n",
      "\n",
      "   libreface_AU015_i  libreface_AU017_i  libreface_AU020_i  libreface_AU025_i  \\\n",
      "0           0.033510           0.040307           0.049689           0.391612   \n",
      "1           0.034027           0.041201           0.051156           0.408797   \n",
      "\n",
      "   libreface_AU026_i  \n",
      "0           0.040814  \n",
      "1           0.039705  \n",
      "\n",
      "[2 rows x 24 columns]\n"
     ]
    }
   ],
   "source": [
    "print(libre_data_frames[\"91-001_part_2_results.csv\"][0:2])"
   ]
  },
  {
   "cell_type": "markdown",
   "id": "9f4b35c8",
   "metadata": {},
   "source": [
    "### OpenFace"
   ]
  },
  {
   "cell_type": "code",
   "execution_count": 20,
   "id": "bb5da691",
   "metadata": {},
   "outputs": [
    {
     "name": "stdout",
     "output_type": "stream",
     "text": [
      "participants in data subset:  165\n"
     ]
    }
   ],
   "source": [
    "# Load Data\n",
    "of_data_frames = {}\n",
    "for (root, dirs, file) in os.walk(\"open_face_features/open_face_features_participants\"):\n",
    "    for f in file:\n",
    "        if \".csv\" in f:\n",
    "            path = root + \"/\" + f\n",
    "            df = pd.read_csv(path)\n",
    "            of_data_frames[f] = df\n",
    "            \n",
    "print(\"participants in data subset: \", len(of_data_frames))\n",
    "#print(\"\\nlist of files:\")\n",
    "#print(of_data_frames.keys())"
   ]
  },
  {
   "cell_type": "code",
   "execution_count": 21,
   "id": "b821265f",
   "metadata": {},
   "outputs": [
    {
     "name": "stdout",
     "output_type": "stream",
     "text": [
      "Dropping any column containing 'eye', 'gaze' or 'pose'\n"
     ]
    }
   ],
   "source": [
    "# Drop Columns\n",
    "print(\"Dropping any column containing 'eye', 'gaze' or 'pose'\")\n",
    "for k in of_data_frames.keys():\n",
    "    df = of_data_frames[k]\n",
    "    labels = df.columns.tolist()\n",
    "    \n",
    "    # get list of labels with certain substring\n",
    "    # and drop corresponding columns\n",
    "    eyes = [l for l in labels if 'eye' in l]\n",
    "    df = df.drop(columns=eyes)\n",
    "    gaze = [l for l in labels if 'gaze' in l]\n",
    "    df = df.drop(columns=gaze)\n",
    "    pose = [l for l in labels if 'pose' in l]\n",
    "    df = df.drop(columns=pose)\n",
    "    \n",
    "    of_data_frames[k] = df"
   ]
  },
  {
   "cell_type": "code",
   "execution_count": 22,
   "id": "82c5fa0c",
   "metadata": {},
   "outputs": [
    {
     "name": "stdout",
     "output_type": "stream",
     "text": [
      "   Unnamed: 0  frame  face_id  timestamp  confidence  success  AU01_r  AU02_r  \\\n",
      "0           0      1        0   0.000000        0.98        1    1.87    0.48   \n",
      "1           1      2        0   0.032848        0.98        1    1.77    0.65   \n",
      "2           2      3        0   0.065697        0.98        1    1.67    0.71   \n",
      "3           3      4        0   0.098545        0.98        1    1.66    0.72   \n",
      "4           4      5        0   0.131394        0.98        1    1.65    0.69   \n",
      "\n",
      "   AU04_r  AU05_r  ...  AU12_c  AU14_c  AU15_c  AU17_c  AU20_c  AU23_c  \\\n",
      "0    0.15     0.0  ...     1.0     1.0     1.0     0.0     1.0     0.0   \n",
      "1    0.27     0.0  ...     1.0     0.0     0.0     0.0     1.0     0.0   \n",
      "2    0.36     0.0  ...     1.0     1.0     1.0     0.0     1.0     0.0   \n",
      "3    0.42     0.0  ...     0.0     0.0     1.0     0.0     1.0     0.0   \n",
      "4    0.46     0.0  ...     0.0     0.0     1.0     0.0     1.0     0.0   \n",
      "\n",
      "   AU25_c  AU26_c  AU28_c  AU45_c  \n",
      "0     1.0     0.0     1.0     1.0  \n",
      "1     1.0     0.0     1.0     1.0  \n",
      "2     1.0     0.0     1.0     0.0  \n",
      "3     1.0     0.0     1.0     0.0  \n",
      "4     1.0     0.0     1.0     0.0  \n",
      "\n",
      "[5 rows x 41 columns]\n"
     ]
    }
   ],
   "source": [
    "test_file = list(of_data_frames.keys())[0]\n",
    "print(of_data_frames[test_file].head())"
   ]
  },
  {
   "cell_type": "code",
   "execution_count": 23,
   "id": "f12e27e5",
   "metadata": {
    "scrolled": false
   },
   "outputs": [],
   "source": [
    "# Rename Features\n",
    "for k in of_data_frames.keys():\n",
    "    df = of_data_frames[k]\n",
    "    df.columns = df.columns.str.replace('AU', 'openface_AU')"
   ]
  },
  {
   "cell_type": "code",
   "execution_count": null,
   "id": "0721f1e0",
   "metadata": {},
   "outputs": [],
   "source": []
  },
  {
   "cell_type": "code",
   "execution_count": null,
   "id": "3fa79f45",
   "metadata": {},
   "outputs": [],
   "source": []
  },
  {
   "cell_type": "markdown",
   "id": "b4a40b66",
   "metadata": {},
   "source": [
    "## Combine Data"
   ]
  },
  {
   "cell_type": "code",
   "execution_count": 24,
   "id": "98459646",
   "metadata": {},
   "outputs": [],
   "source": [
    "# libre_data_frames\n",
    "# me_data_frames\n",
    "# of_data_frames\n",
    "\n",
    "# match correct participants together\n",
    "def find_common_substring(str1, str2):\n",
    "    ## code by copilot\n",
    "    common_substring = ''\n",
    "    # Start from the end of the first string and the beginning of the second string\n",
    "    for i in range(len(str1)):\n",
    "        for j in range(len(str2)):\n",
    "            # Initialize a substring variable to store the matching characters\n",
    "            substring = ''\n",
    "            # Compare characters while they are the same and within the string boundaries\n",
    "            while (i + len(substring) < len(str1) and\n",
    "                   j + len(substring) < len(str2) and\n",
    "                   str1[i + len(substring)] == str2[j + len(substring)]):\n",
    "                substring += str1[i + len(substring)]\n",
    "            # Update the common substring if the current one is longer\n",
    "            if len(substring) > len(common_substring):\n",
    "                common_substring = substring\n",
    "    return common_substring"
   ]
  },
  {
   "cell_type": "code",
   "execution_count": 25,
   "id": "9515ef44",
   "metadata": {},
   "outputs": [],
   "source": [
    "# check for same size\n",
    "if not len(list(me_data_frames)) is len(list(libre_data_frames)):\n",
    "    print(\"failure, length of given lists not the same\")\n",
    "if not len(list(of_data_frames)) is len(list(me_data_frames)):\n",
    "    print(\"failure, length of given lists not the same\")"
   ]
  },
  {
   "cell_type": "code",
   "execution_count": 37,
   "id": "1300e514",
   "metadata": {},
   "outputs": [],
   "source": [
    "\n",
    "new_data_frames = {}\n",
    "# get key indices\n",
    "for i in range(len(list(me_data_frames))):\n",
    "    # get keys at i\n",
    "    me_key = list(me_data_frames)[i]\n",
    "    lib_key = list(libre_data_frames)[i]\n",
    "    of_key = list(of_data_frames)[i]\n",
    "    \n",
    "    # get data frames at i\n",
    "    me = me_data_frames[me_key]\n",
    "    lib = libre_data_frames[lib_key]\n",
    "    of = of_data_frames[of_key]\n",
    "    \n",
    "    # create new file name\n",
    "    merge_string_1 = find_common_substring(me_key, lib_key)\n",
    "    merge_string_2 = find_common_substring(of_key, lib_key)\n",
    "    new_file_name = find_common_substring(merge_string_1, merge_string_2)\n",
    "    if not new_file_name:\n",
    "        print(\"error, empty string for index \", i)\n",
    "        new_file_name = \"unknown_index_\"+i\n",
    "    new_file_name = new_file_name + \"_concat.csv\"\n",
    "    \n",
    "    # concat dataframes\n",
    "    result = pd.concat([of, me, lib], axis=1)\n",
    "    new_data_frames[new_file_name] = result"
   ]
  },
  {
   "cell_type": "code",
   "execution_count": null,
   "id": "b173b0c9",
   "metadata": {},
   "outputs": [],
   "source": [
    "print(new_data_frames[list(new_data_frames)[0]])\n",
    "print(list(new_data_frames)[0])"
   ]
  },
  {
   "cell_type": "markdown",
   "id": "718e488a",
   "metadata": {},
   "source": [
    "## Save in files"
   ]
  },
  {
   "cell_type": "code",
   "execution_count": 40,
   "id": "deb22f3b",
   "metadata": {},
   "outputs": [],
   "source": [
    "for k in new_data_frames.keys():\n",
    "    save_path = \"concat_features/\" + k\n",
    "    \n",
    "    df = new_data_frames[k]\n",
    "    df.to_csv(save_path) "
   ]
  },
  {
   "cell_type": "code",
   "execution_count": null,
   "id": "6ce8b6e0",
   "metadata": {},
   "outputs": [],
   "source": []
  },
  {
   "cell_type": "markdown",
   "id": "b8679500",
   "metadata": {},
   "source": [
    "# Standardize Data Ranges"
   ]
  },
  {
   "cell_type": "markdown",
   "id": "44c94d24",
   "metadata": {},
   "source": [
    "openface_r has originally intensity ranges between 0 and 5, so I divide by 5\n",
    "\n",
    "me_graph has percentages as values between 0 and 100, so I divide by 100"
   ]
  },
  {
   "cell_type": "code",
   "execution_count": 6,
   "id": "f8afb233",
   "metadata": {},
   "outputs": [],
   "source": [
    "# Load Data\n",
    "all_data = {}\n",
    "for (root, dirs, file) in os.walk(\"raw_data/all_features_raw\"):\n",
    "    for f in file:\n",
    "        if \".csv\" in f:\n",
    "            path = root + \"/\" + f\n",
    "            df = pd.read_csv(path)\n",
    "            all_data[f] = df\n",
    "\n",
    "# go though data\n",
    "#df.replace({'A': r'^openface_AU.$'}, {'A': 'new'}, regex=True)\n",
    "# regular expression: r'^openface_AU.$'"
   ]
  },
  {
   "cell_type": "code",
   "execution_count": 7,
   "id": "2d4a47e4",
   "metadata": {},
   "outputs": [],
   "source": [
    "## Standardize Data\n",
    "\n",
    "# get list of labels with certain substring\n",
    "first_entry = list(all_data.values())[0]\n",
    "labels = first_entry.columns.tolist()\n",
    "of_columns = [l for l in labels if 'openface_AU' in l and '_r' in l]\n",
    "me_columns = [l for l in labels if 'me_graph_AU' in l]\n",
    "\n",
    "for k in all_data.keys():\n",
    "    df = all_data[k]\n",
    "    \n",
    "    for column in of_columns:\n",
    "        # scale data down to [0,1]\n",
    "        df[column] = [x / 5 for x in df[column]]\n",
    "    \n",
    "    for column in me_columns:\n",
    "        # scale data down to [0,1]\n",
    "        df[column] = [x / 100 for x in df[column]]\n",
    "            "
   ]
  },
  {
   "cell_type": "code",
   "execution_count": 8,
   "id": "87d8787c",
   "metadata": {},
   "outputs": [
    {
     "name": "stdout",
     "output_type": "stream",
     "text": [
      "   Unnamed: 0.1  Unnamed: 0  frame  face_id  timestamp  confidence  success  \\\n",
      "0             0           0      1        0   0.000000        0.98        1   \n",
      "1             1           1      2        0   0.032848        0.98        1   \n",
      "\n",
      "   openface_AU01_r  openface_AU02_r  openface_AU04_r  ...  libreface_AU04_i  \\\n",
      "0            0.374            0.096            0.030  ...          0.114357   \n",
      "1            0.354            0.130            0.054  ...          0.115769   \n",
      "\n",
      "   libreface_AU05_i  libreface_AU06_i  libreface_AU09_i  libreface_AU012_i  \\\n",
      "0          0.049410          0.041506          0.055842           0.253342   \n",
      "1          0.051378          0.044465          0.059174           0.256453   \n",
      "\n",
      "   libreface_AU015_i  libreface_AU017_i  libreface_AU020_i  libreface_AU025_i  \\\n",
      "0           0.033510           0.040307           0.049689           0.391612   \n",
      "1           0.034027           0.041201           0.051156           0.408797   \n",
      "\n",
      "   libreface_AU026_i  \n",
      "0           0.040814  \n",
      "1           0.039705  \n",
      "\n",
      "[2 rows x 93 columns]\n"
     ]
    }
   ],
   "source": [
    "print(first_entry[0:2])"
   ]
  },
  {
   "cell_type": "code",
   "execution_count": 10,
   "id": "8592fe5d",
   "metadata": {
    "scrolled": false
   },
   "outputs": [
    {
     "data": {
      "image/png": "[encoded data removed]",
      "text/plain": [
       "<Figure size 800x1000 with 1 Axes>"
      ]
     },
     "metadata": {},
     "output_type": "display_data"
    }
   ],
   "source": [
    "first_entry.plot(kind='line', y=[\"openface_AU01_r\", \"libreface_AU01_i\", \"me_graph_AU1\", \"libreface_AU01_d\"], subplots=False, figsize=(8, 10))\n",
    "plt.title('Intensity Over Time')\n",
    "plt.xlabel('Time')\n",
    "plt.ylabel('Intensity')\n",
    "plt.show()"
   ]
  },
  {
   "cell_type": "code",
   "execution_count": 11,
   "id": "8671977a",
   "metadata": {},
   "outputs": [],
   "source": [
    "for k in all_data.keys():\n",
    "    save_path = \"all_features/\" + k\n",
    "    \n",
    "    df = all_data[k]\n",
    "    df.to_csv(save_path) "
   ]
  },
  {
   "cell_type": "markdown",
   "id": "03873a9e",
   "metadata": {},
   "source": [
    "# Participant Info"
   ]
  },
  {
   "cell_type": "code",
   "execution_count": 18,
   "id": "55bcd8a2",
   "metadata": {},
   "outputs": [],
   "source": [
    "# Load Data\n",
    "df = pd.read_csv(\"raw_data/participant_info/ids.csv\")\n",
    "# Convert the DataFrame to a dictionary\n",
    "info = df.set_index('id')['SITCondition.ASD'].to_dict()"
   ]
  },
  {
   "cell_type": "code",
   "execution_count": 31,
   "id": "70a90f56",
   "metadata": {},
   "outputs": [],
   "source": [
    "# List of used participants\n",
    "with open(\"raw_data/participant_info/participants.txt\", \"r\") as f:\n",
    "    participants = f.readlines()\n",
    "all_participants = list(map(lambda x: x.strip(), participants))"
   ]
  },
  {
   "cell_type": "code",
   "execution_count": 40,
   "id": "b17afbe2",
   "metadata": {},
   "outputs": [],
   "source": [
    "participants = set(all_participants)\n",
    "remaining_participants = set(all_participants)"
   ]
  },
  {
   "cell_type": "code",
   "execution_count": 41,
   "id": "82e3b7a1",
   "metadata": {
    "scrolled": true
   },
   "outputs": [
    {
     "name": "stdout",
     "output_type": "stream",
     "text": [
      "remaining participants:  {'pre-91-020_part_1'}\n"
     ]
    }
   ],
   "source": [
    "# find matching participants\n",
    "part_info = {}\n",
    "for k in info.keys():\n",
    "    for p in participants:\n",
    "        if k in p:\n",
    "            #print(f\"{k} in {p}\")\n",
    "            part_info[p] = info[k]\n",
    "            remaining_participants.remove(p)\n",
    "            continue\n",
    "            \n",
    "print(\"remaining participants: \", remaining_participants)"
   ]
  },
  {
   "cell_type": "markdown",
   "id": "0efc6d4a",
   "metadata": {},
   "source": [
    "remaining participants:  {'pre-91-020_part_1'}\n",
    "Missing participant info:\n",
    "\n",
    "22_hu: 110\t91-020\t33(age)\t2(gender)"
   ]
  },
  {
   "cell_type": "code",
   "execution_count": 42,
   "id": "6c22cc8b",
   "metadata": {},
   "outputs": [],
   "source": [
    "# save ids and asc-flag\n",
    "df = pd.DataFrame(part_info.items(), columns=['id', 'ASC'])\n",
    "df = df.sort_values('id')\n",
    "df.to_csv(\"participant_info.csv\") "
   ]
  },
  {
   "cell_type": "code",
   "execution_count": null,
   "id": "870e469c",
   "metadata": {},
   "outputs": [],
   "source": []
  }
 ],
 "metadata": {
  "kernelspec": {
   "display_name": "Python 3 (ipykernel)",
   "language": "python",
   "name": "python3"
  },
  "language_info": {
   "codemirror_mode": {
    "name": "ipython",
    "version": 3
   },
   "file_extension": ".py",
   "mimetype": "text/x-python",
   "name": "python",
   "nbconvert_exporter": "python",
   "pygments_lexer": "ipython3",
   "version": "3.10.13"
  }
 },
 "nbformat": 4,
 "nbformat_minor": 5
}
