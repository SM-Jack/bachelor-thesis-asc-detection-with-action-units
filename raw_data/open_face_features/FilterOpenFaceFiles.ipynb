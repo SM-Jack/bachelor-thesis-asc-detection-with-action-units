{
 "cells": [
  {
   "cell_type": "code",
   "execution_count": 11,
   "id": "91099f66",
   "metadata": {},
   "outputs": [],
   "source": [
    "import csv\n",
    "import os\n",
    "\n",
    "import math\n",
    "import numpy as np\n",
    "\n",
    "import pandas as pd\n",
    "import matplotlib.pyplot as plt\n",
    "import seaborn as sns"
   ]
  },
  {
   "cell_type": "code",
   "execution_count": 12,
   "id": "cec0a422",
   "metadata": {},
   "outputs": [],
   "source": [
    "# Load Data\n",
    "of_data_frames = {}\n",
    "for (root, dirs, file) in os.walk(\"open_face_features_hu_mix_lab\"):\n",
    "    for f in file:\n",
    "        if \".csv\" in f:\n",
    "            if not \"_part_2\" in f:\n",
    "                continue\n",
    "            path = root + \"/\" + f\n",
    "            df = pd.read_csv(path)\n",
    "            of_data_frames[f] = df"
   ]
  },
  {
   "cell_type": "code",
   "execution_count": 13,
   "id": "c3aa86b7",
   "metadata": {},
   "outputs": [
    {
     "name": "stdout",
     "output_type": "stream",
     "text": [
      "participants in data subset:  60\n",
      "\n",
      "list of files:\n",
      "dict_keys(['91-001_part_2.csv', '91-007_part_2.csv', 'pre-01-001_part_2.csv', 'pre-01-002_part_2.csv', 'pre-01-007_part_2.csv', 'pre-01-008_part_2.csv', 'pre-01-009_part_2.csv', 'pre-01-013_part_2.csv', 'pre-01-014_part_2.csv', 'pre-01-015_part_2.csv', 'pre-01-019_part_2.csv', 'pre-01-020_part_2.csv', 'pre-01-026_part_2.csv', 'pre-01-027_part_2.csv', 'pre-01-028_part_2.csv', 'pre-01-031_part_2.csv', 'pre-01-041_part_2.csv', 'pre-01-061_part_2.csv', 'pre-01-062_part_2.csv', 'pre-01-070_part_2.csv', 'pre-01-079_part_2.csv', 'pre-02-016_part_2.csv', 'pre-02-019_part_2.csv', 'pre-02-023_part_2.csv', 'pre-02-038_part_2.csv', 'pre-02-040_part_2.csv', 'pre-03-013_part_2.csv', 'pre-03-021_part_2.csv', 'pre-03-032_part_2.csv', 'pre-81-004_part_2.csv', 'pre-91-002_part_2.csv', 'pre-91-004_part_2.csv', 'pre-91-008_part_2.csv', 'pre-91-009_part_2.csv', 'pre-91-010_part_2.csv', 'pre-91-011_part_2.csv', 'pre-91-012_part_2.csv', 'pre-91-013_part_2.csv', 'pre-91-014_part_2.csv', 'pre-91-016_part_2.csv', 'pre-91-019_part_2.csv', 'pre-91-021_part_2.csv', 'pre-91-022_part_2.csv', 'pre-91-023_part_2.csv', 'pre-91-024_part_2.csv', 'pre-91-027_part_2.csv', 'pre-91-032_part_2.csv', 'pre-91-033_part_2.csv', 'pre-91-034_part_2.csv', 'PRE-91-035_part_2.csv', 'pre-91-036_part_2.csv', 'pre-91-040_part_2.csv', 'PRE-91-041_part_2.csv', 'pre-91-042_part_2.csv', 'pre-91-043_part_2.csv', 'pre-91-045_part_2.csv', 'pre-91-046_part_2.csv', 'pre-91-047_part_2.csv', 'pre-91-048_part_2.csv', 'pre-91-053_part_2.csv'])\n"
     ]
    }
   ],
   "source": [
    "print(\"participants in data subset: \", len(of_data_frames))\n",
    "print(\"\\nlist of files:\")\n",
    "print(of_data_frames.keys())"
   ]
  },
  {
   "cell_type": "code",
   "execution_count": 14,
   "id": "cd5cbdb1",
   "metadata": {},
   "outputs": [
    {
     "name": "stdout",
     "output_type": "stream",
     "text": [
      "Dropping any column containing 'eye', 'gaze' or 'pose'\n"
     ]
    }
   ],
   "source": [
    "# Drop Columns\n",
    "print(\"Dropping any column containing 'eye', 'gaze' or 'pose'\")\n",
    "for k in of_data_frames.keys():\n",
    "    df = of_data_frames[k]\n",
    "    labels = df.columns.tolist()\n",
    "    \n",
    "    # get list of labels with certain substring\n",
    "    # and drop corresponding columns\n",
    "    eyes = [l for l in labels if 'eye' in l]\n",
    "    df = df.drop(columns=eyes)\n",
    "    gaze = [l for l in labels if 'gaze' in l]\n",
    "    df = df.drop(columns=gaze)\n",
    "    pose = [l for l in labels if 'pose' in l]\n",
    "    df = df.drop(columns=pose)\n",
    "    \n",
    "    of_data_frames[k] = df"
   ]
  },
  {
   "cell_type": "code",
   "execution_count": 15,
   "id": "d21941b1",
   "metadata": {},
   "outputs": [
    {
     "name": "stdout",
     "output_type": "stream",
     "text": [
      "   Unnamed: 0  frame  face_id  timestamp  confidence  success  AU01_r  AU02_r  \\\n",
      "0           0      1        0   0.000000        0.98        1    1.87    0.48   \n",
      "1           1      2        0   0.032848        0.98        1    1.77    0.65   \n",
      "2           2      3        0   0.065697        0.98        1    1.67    0.71   \n",
      "3           3      4        0   0.098545        0.98        1    1.66    0.72   \n",
      "4           4      5        0   0.131394        0.98        1    1.65    0.69   \n",
      "\n",
      "   AU04_r  AU05_r  ...  AU12_c  AU14_c  AU15_c  AU17_c  AU20_c  AU23_c  \\\n",
      "0    0.15     0.0  ...     1.0     1.0     1.0     0.0     1.0     0.0   \n",
      "1    0.27     0.0  ...     1.0     0.0     0.0     0.0     1.0     0.0   \n",
      "2    0.36     0.0  ...     1.0     1.0     1.0     0.0     1.0     0.0   \n",
      "3    0.42     0.0  ...     0.0     0.0     1.0     0.0     1.0     0.0   \n",
      "4    0.46     0.0  ...     0.0     0.0     1.0     0.0     1.0     0.0   \n",
      "\n",
      "   AU25_c  AU26_c  AU28_c  AU45_c  \n",
      "0     1.0     0.0     1.0     1.0  \n",
      "1     1.0     0.0     1.0     1.0  \n",
      "2     1.0     0.0     1.0     0.0  \n",
      "3     1.0     0.0     1.0     0.0  \n",
      "4     1.0     0.0     1.0     0.0  \n",
      "\n",
      "[5 rows x 41 columns]\n"
     ]
    }
   ],
   "source": [
    "test_file = list(of_data_frames.keys())[0]\n",
    "print(of_data_frames[test_file].head())"
   ]
  },
  {
   "cell_type": "code",
   "execution_count": 16,
   "id": "f2bfea38",
   "metadata": {},
   "outputs": [],
   "source": [
    "# Rename Features\n",
    "for k in of_data_frames.keys():\n",
    "    df = of_data_frames[k]\n",
    "    df.columns = df.columns.str.replace('AU', 'openface_AU')"
   ]
  },
  {
   "cell_type": "code",
   "execution_count": 17,
   "id": "bbf61edf",
   "metadata": {},
   "outputs": [],
   "source": [
    "# save files\n",
    "for k in of_data_frames.keys():\n",
    "    save_path = \"important/\" + k\n",
    "    \n",
    "    df = of_data_frames[k]\n",
    "    df.to_csv(save_path) "
   ]
  },
  {
   "cell_type": "code",
   "execution_count": null,
   "id": "6ce25d16",
   "metadata": {},
   "outputs": [],
   "source": []
  }
 ],
 "metadata": {
  "kernelspec": {
   "display_name": "Python 3 (ipykernel)",
   "language": "python",
   "name": "python3"
  },
  "language_info": {
   "codemirror_mode": {
    "name": "ipython",
    "version": 3
   },
   "file_extension": ".py",
   "mimetype": "text/x-python",
   "name": "python",
   "nbconvert_exporter": "python",
   "pygments_lexer": "ipython3",
   "version": "3.10.13"
  }
 },
 "nbformat": 4,
 "nbformat_minor": 5
}
