{
 "cells": [
  {
   "cell_type": "code",
   "execution_count": 10,
   "id": "40b69a45",
   "metadata": {},
   "outputs": [],
   "source": [
    "import os\n",
    "import shutil"
   ]
  },
  {
   "cell_type": "code",
   "execution_count": 2,
   "id": "81ba5139",
   "metadata": {},
   "outputs": [],
   "source": [
    "with open(\"../participants.txt\", \"r\") as f:\n",
    "    participants = f.readlines()"
   ]
  },
  {
   "cell_type": "code",
   "execution_count": 4,
   "id": "80b3a6f5",
   "metadata": {},
   "outputs": [],
   "source": [
    "participants = list(map(lambda x: x.strip(), participants))"
   ]
  },
  {
   "cell_type": "code",
   "execution_count": 8,
   "id": "45b01f4d",
   "metadata": {},
   "outputs": [],
   "source": [
    "participants = set(participants)"
   ]
  },
  {
   "cell_type": "code",
   "execution_count": 9,
   "id": "47fadab2",
   "metadata": {},
   "outputs": [
    {
     "data": {
      "text/plain": [
       "165"
      ]
     },
     "execution_count": 9,
     "metadata": {},
     "output_type": "execute_result"
    }
   ],
   "source": [
    "len(participants)"
   ]
  },
  {
   "cell_type": "code",
   "execution_count": 6,
   "id": "a05a3a43",
   "metadata": {},
   "outputs": [],
   "source": [
    "paths = [\n",
    "    \"../open_face_features_alu_mix_lab\",\n",
    "    \"../open_face_features_hu_home\",\n",
    "    \"../open_face_features_hu_mix_lab\",\n",
    "]"
   ]
  },
  {
   "cell_type": "code",
   "execution_count": 7,
   "id": "62495bbf",
   "metadata": {},
   "outputs": [
    {
     "data": {
      "text/plain": [
       "['pre-94-010_part_1.csv',\n",
       " 'pre-03-038_part_2_of_details.txt',\n",
       " 'pre-04-004_part_1_of_details.txt',\n",
       " 'pre-04-012_part_1_of_details.txt',\n",
       " 'pre-94-031_part_1_of_details.txt',\n",
       " 'pre-04-003_part_2.csv',\n",
       " 'pre-04-003_part_3.csv',\n",
       " 'pre-04-012_part_1.csv',\n",
       " 'pre-04-082_part_2.csv',\n",
       " 'pre-94-010_part_2.csv',\n",
       " 'pre-04-030_part_3_of_details.txt',\n",
       " 'pre-04-026_part_3_of_details.txt',\n",
       " 'pre-04-003_part_1.csv',\n",
       " 'pre-04-012_part_2.csv',\n",
       " 'pre-04-082_part_1.csv',\n",
       " 'pre-04-020_part_1_of_details.txt',\n",
       " 'pre-94-003_part_1_of_details.txt',\n",
       " 'pre-04-016_part_2_of_details.txt',\n",
       " 'pre-04-053_part_1.csv',\n",
       " 'pre-04-006_part_1.csv',\n",
       " 'pre-04-044_part_1_of_details.txt',\n",
       " 'pre-94-004_part_1.csv',\n",
       " 'pre-04-006_part_1_of_details.txt',\n",
       " 'pre-04-030_part_2_of_details.txt',\n",
       " 'pre-94-033_part_1.csv',\n",
       " 'pre-94-033_part_1_of_details.txt',\n",
       " 'pre-04-017_part_2.csv',\n",
       " 'pre-04-026_part_2_of_details.txt',\n",
       " 'pre-04-020_part_2.csv',\n",
       " 'pre-04-048_part_2_of_details.txt',\n",
       " 'pre-04-053_part_2.csv',\n",
       " 'pre-04-014_part_2_of_details.txt',\n",
       " 'pre-04-006_part_2.csv',\n",
       " 'pre-04-082_part_1_of_details.txt',\n",
       " 'pre-94-004_part_2.csv',\n",
       " 'pre-94-033_part_2.csv',\n",
       " 'pre-04-017_part_1.csv',\n",
       " 'pre-04-020_part_1.csv',\n",
       " 'pre-04-027_part_1.csv',\n",
       " 'pre-04-045_part_1.csv',\n",
       " 'pre-04-048_part_2.csv',\n",
       " 'pre-94-003_part_2.csv',\n",
       " 'pre-94-031_part_2_of_details.txt',\n",
       " 'pre-04-012_part_2_of_details.txt',\n",
       " 'pre-04-004_part_2_of_details.txt',\n",
       " 'pre-03-038_part_1_of_details.txt',\n",
       " 'pre-04-001_part_2.csv',\n",
       " 'pre-04-027_part_2.csv',\n",
       " 'pre-04-045_part_2.csv',\n",
       " 'pre-04-048_part_1.csv',\n",
       " 'pre-04-016_part_1_of_details.txt',\n",
       " 'pre-94-003_part_1.csv',\n",
       " 'pre-94-003_part_2_of_details.txt',\n",
       " 'pre-04-020_part_2_of_details.txt',\n",
       " 'pre-04-001_part_1.csv',\n",
       " 'pre-04-048_part_1_of_details.txt',\n",
       " 'pre-04-026_part_1_of_details.txt',\n",
       " 'pre-94-033_part_2_of_details.txt',\n",
       " 'pre-94-031_part_1.csv',\n",
       " 'pre-04-015_part_2.csv',\n",
       " 'pre-04-030_part_1_of_details.txt',\n",
       " 'pre-04-006_part_2_of_details.txt',\n",
       " 'pre-04-051_part_1.csv',\n",
       " 'pre-04-044_part_2_of_details.txt',\n",
       " 'pre-04-004_part_1.csv',\n",
       " 'pre-94-031_part_2.csv',\n",
       " 'pre-94-031_part_3_of_details.txt',\n",
       " 'pre-04-015_part_1.csv',\n",
       " 'pre-04-082_part_2_of_details.txt',\n",
       " 'pre-04-051_part_2.csv',\n",
       " 'pre-04-004_part_2.csv',\n",
       " 'pre-94-031_part_3.csv',\n",
       " 'pre-04-014_part_1_of_details.txt',\n",
       " 'pre-04-030_part_1.csv',\n",
       " 'pre-04-007_part_1.csv',\n",
       " 'pre-04-037_part_1_of_details.txt',\n",
       " 'pre-04-001_part_2_of_details.txt',\n",
       " 'pre-04-016_part_2.csv',\n",
       " 'pre-94-032_part_1.csv',\n",
       " 'pre-04-017_part_2_of_details.txt',\n",
       " 'pre-94-030_part_1_of_details.txt',\n",
       " 'pre-04-013_part_1_of_details.txt',\n",
       " 'pre-04-030_part_2.csv',\n",
       " 'pre-04-007_part_2.csv',\n",
       " 'pre-94-010_part_2_of_details.txt',\n",
       " 'pre-04-005_part_1_of_details.txt',\n",
       " 'pre-04-029_part_1_of_details.txt',\n",
       " 'pre-04-016_part_1.csv',\n",
       " 'pre-04-030_part_3.csv',\n",
       " 'pre-04-003_part_3_of_details.txt',\n",
       " 'pre-94-032_part_2.csv',\n",
       " 'pre-04-051_part_1_of_details.txt',\n",
       " 'pre-04-003_part_2_of_details.txt',\n",
       " 'pre-04-035_part_1_of_details.txt',\n",
       " 'pre-04-035_part_2.csv',\n",
       " 'pre-04-023_part_1_of_details.txt',\n",
       " 'pre-03-038_part_2.csv',\n",
       " 'pre-04-015_part_2_of_details.txt',\n",
       " 'pre-04-029_part_2.csv',\n",
       " 'pre-04-013_part_1.csv',\n",
       " 'pre-04-045_part_1_of_details.txt',\n",
       " 'pre-04-035_part_1.csv',\n",
       " 'pre-03-038_part_1.csv',\n",
       " 'pre-04-053_part_1_of_details.txt',\n",
       " 'pre-04-011_part_1_of_details.txt',\n",
       " 'pre-94-004_part_2_of_details.txt',\n",
       " 'pre-04-027_part_2_of_details.txt',\n",
       " 'pre-94-032_part_1_of_details.txt',\n",
       " 'pre-04-029_part_1.csv',\n",
       " 'pre-04-013_part_2.csv',\n",
       " 'pre-04-007_part_1_of_details.txt',\n",
       " 'pre-04-023_part_2.csv',\n",
       " 'pre-04-014_part_2.csv',\n",
       " 'pre-04-017_part_1_of_details.txt',\n",
       " 'pre-04-001_part_1_of_details.txt',\n",
       " 'pre-04-037_part_2_of_details.txt',\n",
       " 'pre-94-030_part_1.csv',\n",
       " 'pre-04-005_part_1.csv',\n",
       " 'pre-04-023_part_1.csv',\n",
       " 'pre-04-014_part_1.csv',\n",
       " 'pre-04-051_part_2_of_details.txt',\n",
       " 'pre-04-029_part_2_of_details.txt',\n",
       " 'pre-94-030_part_2.csv',\n",
       " 'pre-04-005_part_2_of_details.txt',\n",
       " 'pre-94-010_part_1_of_details.txt',\n",
       " 'pre-04-013_part_2_of_details.txt',\n",
       " 'pre-94-030_part_2_of_details.txt',\n",
       " 'pre-04-005_part_2.csv',\n",
       " 'pre-04-011_part_1.csv',\n",
       " 'pre-04-026_part_1.csv',\n",
       " 'pre-04-044_part_1.csv',\n",
       " 'pre-04-015_part_1_of_details.txt',\n",
       " 'pre-04-023_part_2_of_details.txt',\n",
       " 'pre-04-037_part_2.csv',\n",
       " 'pre-04-035_part_2_of_details.txt',\n",
       " 'pre-04-003_part_1_of_details.txt',\n",
       " 'pre-04-007_part_2_of_details.txt',\n",
       " 'pre-04-011_part_2.csv',\n",
       " 'pre-04-026_part_2.csv',\n",
       " 'pre-94-032_part_2_of_details.txt',\n",
       " 'pre-04-027_part_1_of_details.txt',\n",
       " 'pre-94-004_part_1_of_details.txt',\n",
       " 'pre-04-011_part_2_of_details.txt',\n",
       " 'pre-04-044_part_2.csv',\n",
       " 'pre-04-053_part_2_of_details.txt',\n",
       " 'pre-04-037_part_1.csv',\n",
       " 'pre-04-026_part_3.csv',\n",
       " 'pre-04-045_part_2_of_details.txt']"
      ]
     },
     "execution_count": 7,
     "metadata": {},
     "output_type": "execute_result"
    }
   ],
   "source": [
    "os.listdir(paths[0])"
   ]
  },
  {
   "cell_type": "code",
   "execution_count": 11,
   "id": "d0e8e051",
   "metadata": {},
   "outputs": [],
   "source": [
    "files_to_move = []\n",
    "for path in paths:\n",
    "    files = os.listdir(path)\n",
    "    for file in files:\n",
    "        if file.endswith(\".csv\"):\n",
    "            participant = file[:-4]\n",
    "            if participant in participants:\n",
    "                files_to_move.append(os.path.join(path, file))"
   ]
  },
  {
   "cell_type": "code",
   "execution_count": 12,
   "id": "1b596491",
   "metadata": {},
   "outputs": [
    {
     "data": {
      "text/plain": [
       "165"
      ]
     },
     "execution_count": 12,
     "metadata": {},
     "output_type": "execute_result"
    }
   ],
   "source": [
    "len(files_to_move)"
   ]
  },
  {
   "cell_type": "code",
   "execution_count": 14,
   "id": "6c3ce6f1",
   "metadata": {},
   "outputs": [],
   "source": [
    "destination = \"../open_face_features_participants/\"\n",
    "for file in files_to_move:\n",
    "    shutil.copy2(file, destination)"
   ]
  },
  {
   "cell_type": "code",
   "execution_count": 15,
   "id": "b6409877",
   "metadata": {},
   "outputs": [
    {
     "data": {
      "text/plain": [
       "165"
      ]
     },
     "execution_count": 15,
     "metadata": {},
     "output_type": "execute_result"
    }
   ],
   "source": [
    "len(os.listdir(destination))"
   ]
  },
  {
   "cell_type": "code",
   "execution_count": null,
   "id": "3b346af4",
   "metadata": {},
   "outputs": [],
   "source": []
  }
 ],
 "metadata": {
  "kernelspec": {
   "display_name": "Python 3 (ipykernel)",
   "language": "python",
   "name": "python3"
  },
  "language_info": {
   "codemirror_mode": {
    "name": "ipython",
    "version": 3
   },
   "file_extension": ".py",
   "mimetype": "text/x-python",
   "name": "python",
   "nbconvert_exporter": "python",
   "pygments_lexer": "ipython3",
   "version": "3.10.13"
  }
 },
 "nbformat": 4,
 "nbformat_minor": 5
}
